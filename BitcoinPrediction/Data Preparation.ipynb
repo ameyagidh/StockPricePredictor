{
 "cells": [
  {
   "cell_type": "code",
   "execution_count": 88,
   "id": "63cb14a9",
   "metadata": {},
   "outputs": [],
   "source": [
    "import numpy as np\n",
    "import pandas as pd\n",
    "import os\n",
    "from sklearn.preprocessing import MinMaxScaler"
   ]
  },
  {
   "cell_type": "code",
   "execution_count": 89,
   "id": "270cec17",
   "metadata": {},
   "outputs": [],
   "source": [
    "dirPath = './Data/'"
   ]
  },
  {
   "cell_type": "code",
   "execution_count": 90,
   "id": "8848efed",
   "metadata": {},
   "outputs": [],
   "source": [
    "datafiles = [e for e in os.listdir(dirPath) if os.path.isfile(os.path.join(dirPath, e)) ]"
   ]
  },
  {
   "cell_type": "code",
   "execution_count": 91,
   "id": "4d4f742c",
   "metadata": {},
   "outputs": [],
   "source": [
    "if '.DS_Store' in datafiles:\n",
    "    datafiles.remove('.DS_Store')"
   ]
  },
  {
   "cell_type": "code",
   "execution_count": 92,
   "id": "6a8e4521",
   "metadata": {},
   "outputs": [],
   "source": [
    "xx = []\n",
    "for s in datafiles:\n",
    "    if 'BTC' in s:\n",
    "        xx.append(s)"
   ]
  },
  {
   "cell_type": "code",
   "execution_count": 93,
   "id": "4c32a17a",
   "metadata": {},
   "outputs": [
    {
     "name": "stdout",
     "output_type": "stream",
     "text": [
      "['BTC-USD.csv']\n"
     ]
    }
   ],
   "source": [
    "print(xx)"
   ]
  },
  {
   "cell_type": "code",
   "execution_count": 94,
   "id": "96d4d7d0",
   "metadata": {},
   "outputs": [],
   "source": [
    "datafiles= xx"
   ]
  },
  {
   "cell_type": "code",
   "execution_count": 95,
   "id": "7948dd5f",
   "metadata": {},
   "outputs": [
    {
     "name": "stdout",
     "output_type": "stream",
     "text": [
      "['BTC-USD.csv']\n"
     ]
    }
   ],
   "source": [
    "print((datafiles))"
   ]
  },
  {
   "cell_type": "code",
   "execution_count": 104,
   "id": "99835920",
   "metadata": {},
   "outputs": [
    {
     "name": "stdout",
     "output_type": "stream",
     "text": [
      "['Date', 'Open', 'High', 'Low', 'Close', 'Adj Close', 'Volume']\n",
      "           Date  BTC-USD_Open  BTC-USD_Close  BTC-USD_Volume\n",
      "0    2014-09-26      0.003481       0.003358        0.000044\n",
      "1    2014-09-27      0.003364       0.003286        0.000026\n",
      "2    2014-09-28      0.003304       0.002954        0.000050\n",
      "3    2014-09-29      0.002969       0.002929        0.000076\n",
      "4    2014-09-30      0.002957       0.003099        0.000082\n",
      "...         ...           ...            ...             ...\n",
      "2994 2022-12-07      0.251030       0.247371        0.056044\n",
      "2995 2022-12-08      0.247436       0.253089        0.058384\n",
      "2996 2022-12-09      0.253147       0.251601        0.057905\n",
      "2997 2022-12-10      0.251694       0.251535        0.036189\n",
      "2998 2022-12-11      0.251685       0.252082        0.036197\n",
      "\n",
      "[2999 rows x 4 columns]\n"
     ]
    }
   ],
   "source": [
    "minDate = None\n",
    "data_map = {}\n",
    "for file in datafiles:\n",
    "    scaler = MinMaxScaler()\n",
    "    df = pd.read_csv(os.path.join(dirPath, file))\n",
    "    df.dropna(how='any', axis=0, inplace=True)\n",
    "    df = df.loc[9:, :]\n",
    "    cols = list(df.columns)\n",
    "    print(cols)\n",
    "    cols.remove('Date')\n",
    "    df[cols] = scaler.fit_transform(df[cols])\n",
    "    if minDate is None:\n",
    "        minDate = min(df['Date'])\n",
    "    else:\n",
    "        minDate = max(minDate, min(df['Date']))\n",
    "    #minDate = min(df['Date'])\n",
    "    df = df.drop(columns=['High', 'Low', 'Adj Close'])\n",
    "    all_dates = pd.DataFrame(pd.date_range(df['Date'].min(), df['Date'].max()), columns=['Date'])\n",
    "    #all_dates.Date.astype('datetime64[ns]')\n",
    "    ndf = df.astype({'Date':'datetime64[ns]'})\n",
    "    #print(ndf)\n",
    "    df = all_dates.merge(right=ndf, how='left', on='Date')\n",
    "    #print(df)\n",
    "    df = df.fillna(method='ffill')\n",
    "    colNames = df.columns\n",
    "    key = file[:-4]\n",
    "    colNames = [key+'_'+e if e != 'Date' else e for e in colNames]\n",
    "    df.columns = colNames\n",
    "    #print(df)\n",
    "    #print(file)\n",
    "    #print(minDate)\n",
    "    print(df)\n",
    "    data_map[key] = df\n",
    "#print(minDate)"
   ]
  },
  {
   "cell_type": "code",
   "execution_count": 105,
   "id": "689e5065",
   "metadata": {},
   "outputs": [],
   "source": [
    "time_slices = None\n",
    "for key, val in data_map.items():\n",
    "    tmp = data_map[key]\n",
    "    data_map[key] = tmp[tmp['Date'] >= minDate].sort_values(by=['Date']).reset_index(drop=True)\n",
    "    if time_slices is None:\n",
    "        time_slices = pd.DataFrame(data_map[key]['Date'],columns=['Date'])"
   ]
  },
  {
   "cell_type": "code",
   "execution_count": 106,
   "id": "7416b661",
   "metadata": {},
   "outputs": [
    {
     "data": {
      "text/html": [
       "<div>\n",
       "<style scoped>\n",
       "    .dataframe tbody tr th:only-of-type {\n",
       "        vertical-align: middle;\n",
       "    }\n",
       "\n",
       "    .dataframe tbody tr th {\n",
       "        vertical-align: top;\n",
       "    }\n",
       "\n",
       "    .dataframe thead th {\n",
       "        text-align: right;\n",
       "    }\n",
       "</style>\n",
       "<table border=\"1\" class=\"dataframe\">\n",
       "  <thead>\n",
       "    <tr style=\"text-align: right;\">\n",
       "      <th></th>\n",
       "      <th>Date</th>\n",
       "      <th>BTC-USD_Open</th>\n",
       "      <th>BTC-USD_Close</th>\n",
       "      <th>BTC-USD_Volume</th>\n",
       "    </tr>\n",
       "  </thead>\n",
       "  <tbody>\n",
       "    <tr>\n",
       "      <th>0</th>\n",
       "      <td>2014-09-26</td>\n",
       "      <td>0.003481</td>\n",
       "      <td>0.003358</td>\n",
       "      <td>0.000044</td>\n",
       "    </tr>\n",
       "    <tr>\n",
       "      <th>1</th>\n",
       "      <td>2014-09-27</td>\n",
       "      <td>0.003364</td>\n",
       "      <td>0.003286</td>\n",
       "      <td>0.000026</td>\n",
       "    </tr>\n",
       "    <tr>\n",
       "      <th>2</th>\n",
       "      <td>2014-09-28</td>\n",
       "      <td>0.003304</td>\n",
       "      <td>0.002954</td>\n",
       "      <td>0.000050</td>\n",
       "    </tr>\n",
       "    <tr>\n",
       "      <th>3</th>\n",
       "      <td>2014-09-29</td>\n",
       "      <td>0.002969</td>\n",
       "      <td>0.002929</td>\n",
       "      <td>0.000076</td>\n",
       "    </tr>\n",
       "    <tr>\n",
       "      <th>4</th>\n",
       "      <td>2014-09-30</td>\n",
       "      <td>0.002957</td>\n",
       "      <td>0.003099</td>\n",
       "      <td>0.000082</td>\n",
       "    </tr>\n",
       "  </tbody>\n",
       "</table>\n",
       "</div>"
      ],
      "text/plain": [
       "        Date  BTC-USD_Open  BTC-USD_Close  BTC-USD_Volume\n",
       "0 2014-09-26      0.003481       0.003358        0.000044\n",
       "1 2014-09-27      0.003364       0.003286        0.000026\n",
       "2 2014-09-28      0.003304       0.002954        0.000050\n",
       "3 2014-09-29      0.002969       0.002929        0.000076\n",
       "4 2014-09-30      0.002957       0.003099        0.000082"
      ]
     },
     "execution_count": 106,
     "metadata": {},
     "output_type": "execute_result"
    }
   ],
   "source": [
    "mdf = None\n",
    "for key, val in data_map.items():\n",
    "    #print(val)\n",
    "    if mdf is None:\n",
    "        mdf = val\n",
    "    else:\n",
    "        mdf = mdf.merge(val, on='Date', how='inner')\n",
    "mdf.head()"
   ]
  },
  {
   "cell_type": "code",
   "execution_count": 107,
   "id": "8b3f5b39",
   "metadata": {},
   "outputs": [
    {
     "data": {
      "text/html": [
       "<div>\n",
       "<style scoped>\n",
       "    .dataframe tbody tr th:only-of-type {\n",
       "        vertical-align: middle;\n",
       "    }\n",
       "\n",
       "    .dataframe tbody tr th {\n",
       "        vertical-align: top;\n",
       "    }\n",
       "\n",
       "    .dataframe thead th {\n",
       "        text-align: right;\n",
       "    }\n",
       "</style>\n",
       "<table border=\"1\" class=\"dataframe\">\n",
       "  <thead>\n",
       "    <tr style=\"text-align: right;\">\n",
       "      <th></th>\n",
       "      <th>Date</th>\n",
       "      <th>BTC-USD_Open</th>\n",
       "      <th>BTC-USD_Close</th>\n",
       "      <th>BTC-USD_Volume</th>\n",
       "    </tr>\n",
       "  </thead>\n",
       "  <tbody>\n",
       "    <tr>\n",
       "      <th>2994</th>\n",
       "      <td>2022-12-07</td>\n",
       "      <td>0.251030</td>\n",
       "      <td>0.247371</td>\n",
       "      <td>0.056044</td>\n",
       "    </tr>\n",
       "    <tr>\n",
       "      <th>2995</th>\n",
       "      <td>2022-12-08</td>\n",
       "      <td>0.247436</td>\n",
       "      <td>0.253089</td>\n",
       "      <td>0.058384</td>\n",
       "    </tr>\n",
       "    <tr>\n",
       "      <th>2996</th>\n",
       "      <td>2022-12-09</td>\n",
       "      <td>0.253147</td>\n",
       "      <td>0.251601</td>\n",
       "      <td>0.057905</td>\n",
       "    </tr>\n",
       "    <tr>\n",
       "      <th>2997</th>\n",
       "      <td>2022-12-10</td>\n",
       "      <td>0.251694</td>\n",
       "      <td>0.251535</td>\n",
       "      <td>0.036189</td>\n",
       "    </tr>\n",
       "    <tr>\n",
       "      <th>2998</th>\n",
       "      <td>2022-12-11</td>\n",
       "      <td>0.251685</td>\n",
       "      <td>0.252082</td>\n",
       "      <td>0.036197</td>\n",
       "    </tr>\n",
       "  </tbody>\n",
       "</table>\n",
       "</div>"
      ],
      "text/plain": [
       "           Date  BTC-USD_Open  BTC-USD_Close  BTC-USD_Volume\n",
       "2994 2022-12-07      0.251030       0.247371        0.056044\n",
       "2995 2022-12-08      0.247436       0.253089        0.058384\n",
       "2996 2022-12-09      0.253147       0.251601        0.057905\n",
       "2997 2022-12-10      0.251694       0.251535        0.036189\n",
       "2998 2022-12-11      0.251685       0.252082        0.036197"
      ]
     },
     "execution_count": 107,
     "metadata": {},
     "output_type": "execute_result"
    }
   ],
   "source": [
    "mdf.tail()"
   ]
  },
  {
   "cell_type": "code",
   "execution_count": 108,
   "id": "a480a7d0",
   "metadata": {},
   "outputs": [],
   "source": [
    "mdf.dropna(how='any', axis=0, inplace=True) "
   ]
  },
  {
   "cell_type": "code",
   "execution_count": 109,
   "id": "b0fd3ec4",
   "metadata": {},
   "outputs": [],
   "source": [
    "import pickle"
   ]
  },
  {
   "cell_type": "code",
   "execution_count": 11,
   "id": "2b92f965",
   "metadata": {},
   "outputs": [],
   "source": [
    "f = open(\"data.pkl\",\"wb\")\n",
    "pickle.dump(data_map,f)\n",
    "f.close()"
   ]
  },
  {
   "cell_type": "code",
   "execution_count": 12,
   "id": "ebdf2bfb",
   "metadata": {},
   "outputs": [],
   "source": [
    "datafiles.sort()"
   ]
  },
  {
   "cell_type": "code",
   "execution_count": 110,
   "id": "a0f09cb2",
   "metadata": {},
   "outputs": [],
   "source": [
    "filter_ = max(mdf['Date'])\n",
    "time_slices = time_slices[time_slices['Date'] <= filter_]\n",
    "time_slices.sort_values('Date', inplace=True)"
   ]
  },
  {
   "cell_type": "code",
   "execution_count": 111,
   "id": "fe5db8d0",
   "metadata": {},
   "outputs": [
    {
     "data": {
      "text/html": [
       "<div>\n",
       "<style scoped>\n",
       "    .dataframe tbody tr th:only-of-type {\n",
       "        vertical-align: middle;\n",
       "    }\n",
       "\n",
       "    .dataframe tbody tr th {\n",
       "        vertical-align: top;\n",
       "    }\n",
       "\n",
       "    .dataframe thead th {\n",
       "        text-align: right;\n",
       "    }\n",
       "</style>\n",
       "<table border=\"1\" class=\"dataframe\">\n",
       "  <thead>\n",
       "    <tr style=\"text-align: right;\">\n",
       "      <th></th>\n",
       "      <th>Date</th>\n",
       "    </tr>\n",
       "  </thead>\n",
       "  <tbody>\n",
       "    <tr>\n",
       "      <th>0</th>\n",
       "      <td>2014-09-26</td>\n",
       "    </tr>\n",
       "    <tr>\n",
       "      <th>1</th>\n",
       "      <td>2014-09-27</td>\n",
       "    </tr>\n",
       "    <tr>\n",
       "      <th>2</th>\n",
       "      <td>2014-09-28</td>\n",
       "    </tr>\n",
       "    <tr>\n",
       "      <th>3</th>\n",
       "      <td>2014-09-29</td>\n",
       "    </tr>\n",
       "    <tr>\n",
       "      <th>4</th>\n",
       "      <td>2014-09-30</td>\n",
       "    </tr>\n",
       "    <tr>\n",
       "      <th>...</th>\n",
       "      <td>...</td>\n",
       "    </tr>\n",
       "    <tr>\n",
       "      <th>2994</th>\n",
       "      <td>2022-12-07</td>\n",
       "    </tr>\n",
       "    <tr>\n",
       "      <th>2995</th>\n",
       "      <td>2022-12-08</td>\n",
       "    </tr>\n",
       "    <tr>\n",
       "      <th>2996</th>\n",
       "      <td>2022-12-09</td>\n",
       "    </tr>\n",
       "    <tr>\n",
       "      <th>2997</th>\n",
       "      <td>2022-12-10</td>\n",
       "    </tr>\n",
       "    <tr>\n",
       "      <th>2998</th>\n",
       "      <td>2022-12-11</td>\n",
       "    </tr>\n",
       "  </tbody>\n",
       "</table>\n",
       "<p>2999 rows × 1 columns</p>\n",
       "</div>"
      ],
      "text/plain": [
       "           Date\n",
       "0    2014-09-26\n",
       "1    2014-09-27\n",
       "2    2014-09-28\n",
       "3    2014-09-29\n",
       "4    2014-09-30\n",
       "...         ...\n",
       "2994 2022-12-07\n",
       "2995 2022-12-08\n",
       "2996 2022-12-09\n",
       "2997 2022-12-10\n",
       "2998 2022-12-11\n",
       "\n",
       "[2999 rows x 1 columns]"
      ]
     },
     "execution_count": 111,
     "metadata": {},
     "output_type": "execute_result"
    }
   ],
   "source": [
    "time_slices"
   ]
  },
  {
   "cell_type": "code",
   "execution_count": 112,
   "id": "96128582",
   "metadata": {},
   "outputs": [],
   "source": [
    "import datetime\n",
    "min_t, max_t = min(time_slices['Date']), max(time_slices['Date'])\n",
    "min_t, max_t = min_t.to_pydatetime(), max_t.to_pydatetime()\n",
    "#x = min_t + datetime.timedelta(days=1)\n",
    "#min_t, max_t = datetime.datetime.strptime(min_t, '%Y-%m-%d').date(), \\\n",
    "#datetime.datetime.strptime(max_t, '%Y-%m-%d').date()\n",
    "days = (max_t - min_t).days"
   ]
  },
  {
   "cell_type": "code",
   "execution_count": 113,
   "id": "77ca5478",
   "metadata": {},
   "outputs": [
    {
     "name": "stdout",
     "output_type": "stream",
     "text": [
      "2022-12-11 00:00:00\n"
     ]
    }
   ],
   "source": [
    "print(max_t)"
   ]
  },
  {
   "cell_type": "code",
   "execution_count": 115,
   "id": "9b7b3ccb",
   "metadata": {},
   "outputs": [
    {
     "name": "stdout",
     "output_type": "stream",
     "text": [
      "2998\n"
     ]
    }
   ],
   "source": [
    "print(days)\n",
    "days=days+1"
   ]
  },
  {
   "cell_type": "code",
   "execution_count": 116,
   "id": "6063ea21",
   "metadata": {},
   "outputs": [],
   "source": [
    "max_close, min_close = max(mdf['BTC-USD_Close']), min(mdf['BTC-USD_Close'])"
   ]
  },
  {
   "cell_type": "code",
   "execution_count": 117,
   "id": "c9cfe0fc",
   "metadata": {},
   "outputs": [
    {
     "name": "stdout",
     "output_type": "stream",
     "text": [
      "1.0 0.0\n"
     ]
    }
   ],
   "source": [
    "print(max_close, min_close)"
   ]
  },
  {
   "cell_type": "markdown",
   "id": "8baf3ff2",
   "metadata": {},
   "source": [
    "Data prepared previously as 5x5x1840x3"
   ]
  },
  {
   "cell_type": "code",
   "execution_count": null,
   "id": "32c9377b",
   "metadata": {},
   "outputs": [],
   "source": []
  },
  {
   "cell_type": "code",
   "execution_count": 63,
   "id": "2fabad49",
   "metadata": {},
   "outputs": [],
   "source": [
    "allData = [[[None for _ in range(days)] for _ in range(5)] for _ in range(5)]"
   ]
  },
  {
   "cell_type": "code",
   "execution_count": 64,
   "id": "02d6276a",
   "metadata": {},
   "outputs": [],
   "source": [
    "start = min_t.strftime('%Y-%m-%d')\n",
    "for i in range(len(datafiles)):\n",
    "    file = datafiles[i]\n",
    "    fname = file[:-4]\n",
    "    data = data_map[fname]\n",
    "    r, c = i//5, i%5\n",
    "    for j in range(days):\n",
    "        curr = (min_t + datetime.timedelta(days=j)).strftime('%Y-%m-%d')\n",
    "        tmp = data[data['Date'] == curr]\n",
    "        tmp = tmp.drop(columns=['Date'])\n",
    "        tt = tuple(tmp.to_records(index=False)[0])\n",
    "        #print(type(tt))\n",
    "        allData[r][c][j] = tt"
   ]
  },
  {
   "cell_type": "code",
   "execution_count": 65,
   "id": "37dcd712",
   "metadata": {},
   "outputs": [],
   "source": [
    "n_files = np.array(datafiles)\n",
    "n_data = np.array(allData, dtype='object')"
   ]
  },
  {
   "cell_type": "code",
   "execution_count": 66,
   "id": "4ca52788",
   "metadata": {},
   "outputs": [
    {
     "data": {
      "text/plain": [
       "(5, 5, 1840, 3)"
      ]
     },
     "execution_count": 66,
     "metadata": {},
     "output_type": "execute_result"
    }
   ],
   "source": [
    "n_data.shape"
   ]
  },
  {
   "cell_type": "code",
   "execution_count": 67,
   "id": "3592c226",
   "metadata": {},
   "outputs": [],
   "source": [
    "with open('stocks.npy', 'wb') as f:\n",
    "    np.save(f, n_files)\n",
    "with open('np_data_scaled.npy', 'wb') as f:\n",
    "    np.save(f, n_data)"
   ]
  },
  {
   "cell_type": "markdown",
   "id": "5c4cb058",
   "metadata": {},
   "source": [
    "Data as 25x1840x3"
   ]
  },
  {
   "cell_type": "code",
   "execution_count": null,
   "id": "854969b4",
   "metadata": {},
   "outputs": [],
   "source": []
  },
  {
   "cell_type": "code",
   "execution_count": null,
   "id": "72ee4d11",
   "metadata": {},
   "outputs": [],
   "source": []
  },
  {
   "cell_type": "markdown",
   "id": "4caee944",
   "metadata": {},
   "source": [
    "Preparing data"
   ]
  },
  {
   "cell_type": "code",
   "execution_count": 118,
   "id": "6d74848f",
   "metadata": {},
   "outputs": [
    {
     "data": {
      "text/html": [
       "<div>\n",
       "<style scoped>\n",
       "    .dataframe tbody tr th:only-of-type {\n",
       "        vertical-align: middle;\n",
       "    }\n",
       "\n",
       "    .dataframe tbody tr th {\n",
       "        vertical-align: top;\n",
       "    }\n",
       "\n",
       "    .dataframe thead th {\n",
       "        text-align: right;\n",
       "    }\n",
       "</style>\n",
       "<table border=\"1\" class=\"dataframe\">\n",
       "  <thead>\n",
       "    <tr style=\"text-align: right;\">\n",
       "      <th></th>\n",
       "      <th>Date</th>\n",
       "      <th>BTC-USD_Open</th>\n",
       "      <th>BTC-USD_Close</th>\n",
       "      <th>BTC-USD_Volume</th>\n",
       "    </tr>\n",
       "  </thead>\n",
       "  <tbody>\n",
       "    <tr>\n",
       "      <th>2989</th>\n",
       "      <td>2022-12-02</td>\n",
       "      <td>0.249237</td>\n",
       "      <td>0.250940</td>\n",
       "      <td>0.055658</td>\n",
       "    </tr>\n",
       "    <tr>\n",
       "      <th>2990</th>\n",
       "      <td>2022-12-03</td>\n",
       "      <td>0.251039</td>\n",
       "      <td>0.248263</td>\n",
       "      <td>0.046193</td>\n",
       "    </tr>\n",
       "    <tr>\n",
       "      <th>2991</th>\n",
       "      <td>2022-12-04</td>\n",
       "      <td>0.248339</td>\n",
       "      <td>0.251561</td>\n",
       "      <td>0.047921</td>\n",
       "    </tr>\n",
       "    <tr>\n",
       "      <th>2992</th>\n",
       "      <td>2022-12-05</td>\n",
       "      <td>0.251615</td>\n",
       "      <td>0.249251</td>\n",
       "      <td>0.063264</td>\n",
       "    </tr>\n",
       "    <tr>\n",
       "      <th>2993</th>\n",
       "      <td>2022-12-06</td>\n",
       "      <td>0.249334</td>\n",
       "      <td>0.250953</td>\n",
       "      <td>0.056656</td>\n",
       "    </tr>\n",
       "    <tr>\n",
       "      <th>2994</th>\n",
       "      <td>2022-12-07</td>\n",
       "      <td>0.251030</td>\n",
       "      <td>0.247371</td>\n",
       "      <td>0.056044</td>\n",
       "    </tr>\n",
       "    <tr>\n",
       "      <th>2995</th>\n",
       "      <td>2022-12-08</td>\n",
       "      <td>0.247436</td>\n",
       "      <td>0.253089</td>\n",
       "      <td>0.058384</td>\n",
       "    </tr>\n",
       "    <tr>\n",
       "      <th>2996</th>\n",
       "      <td>2022-12-09</td>\n",
       "      <td>0.253147</td>\n",
       "      <td>0.251601</td>\n",
       "      <td>0.057905</td>\n",
       "    </tr>\n",
       "    <tr>\n",
       "      <th>2997</th>\n",
       "      <td>2022-12-10</td>\n",
       "      <td>0.251694</td>\n",
       "      <td>0.251535</td>\n",
       "      <td>0.036189</td>\n",
       "    </tr>\n",
       "    <tr>\n",
       "      <th>2998</th>\n",
       "      <td>2022-12-11</td>\n",
       "      <td>0.251685</td>\n",
       "      <td>0.252082</td>\n",
       "      <td>0.036197</td>\n",
       "    </tr>\n",
       "  </tbody>\n",
       "</table>\n",
       "</div>"
      ],
      "text/plain": [
       "           Date  BTC-USD_Open  BTC-USD_Close  BTC-USD_Volume\n",
       "2989 2022-12-02      0.249237       0.250940        0.055658\n",
       "2990 2022-12-03      0.251039       0.248263        0.046193\n",
       "2991 2022-12-04      0.248339       0.251561        0.047921\n",
       "2992 2022-12-05      0.251615       0.249251        0.063264\n",
       "2993 2022-12-06      0.249334       0.250953        0.056656\n",
       "2994 2022-12-07      0.251030       0.247371        0.056044\n",
       "2995 2022-12-08      0.247436       0.253089        0.058384\n",
       "2996 2022-12-09      0.253147       0.251601        0.057905\n",
       "2997 2022-12-10      0.251694       0.251535        0.036189\n",
       "2998 2022-12-11      0.251685       0.252082        0.036197"
      ]
     },
     "execution_count": 118,
     "metadata": {},
     "output_type": "execute_result"
    }
   ],
   "source": [
    "mdf.tail(10)"
   ]
  },
  {
   "cell_type": "code",
   "execution_count": 119,
   "id": "0fa91fe5",
   "metadata": {},
   "outputs": [
    {
     "data": {
      "text/html": [
       "<div>\n",
       "<style scoped>\n",
       "    .dataframe tbody tr th:only-of-type {\n",
       "        vertical-align: middle;\n",
       "    }\n",
       "\n",
       "    .dataframe tbody tr th {\n",
       "        vertical-align: top;\n",
       "    }\n",
       "\n",
       "    .dataframe thead th {\n",
       "        text-align: right;\n",
       "    }\n",
       "</style>\n",
       "<table border=\"1\" class=\"dataframe\">\n",
       "  <thead>\n",
       "    <tr style=\"text-align: right;\">\n",
       "      <th></th>\n",
       "      <th>BTC-USD_Open</th>\n",
       "      <th>BTC-USD_Close</th>\n",
       "      <th>BTC-USD_Volume</th>\n",
       "    </tr>\n",
       "  </thead>\n",
       "  <tbody>\n",
       "    <tr>\n",
       "      <th>count</th>\n",
       "      <td>2999.000000</td>\n",
       "      <td>2999.000000</td>\n",
       "      <td>2999.000000</td>\n",
       "    </tr>\n",
       "    <tr>\n",
       "      <th>mean</th>\n",
       "      <td>0.188380</td>\n",
       "      <td>0.188378</td>\n",
       "      <td>0.046681</td>\n",
       "    </tr>\n",
       "    <tr>\n",
       "      <th>std</th>\n",
       "      <td>0.241206</td>\n",
       "      <td>0.241076</td>\n",
       "      <td>0.057122</td>\n",
       "    </tr>\n",
       "    <tr>\n",
       "      <th>min</th>\n",
       "      <td>0.000000</td>\n",
       "      <td>0.000000</td>\n",
       "      <td>0.000000</td>\n",
       "    </tr>\n",
       "    <tr>\n",
       "      <th>25%</th>\n",
       "      <td>0.007429</td>\n",
       "      <td>0.007415</td>\n",
       "      <td>0.000274</td>\n",
       "    </tr>\n",
       "    <tr>\n",
       "      <th>50%</th>\n",
       "      <td>0.101939</td>\n",
       "      <td>0.101943</td>\n",
       "      <td>0.020720</td>\n",
       "    </tr>\n",
       "    <tr>\n",
       "      <th>75%</th>\n",
       "      <td>0.245053</td>\n",
       "      <td>0.245242</td>\n",
       "      <td>0.080142</td>\n",
       "    </tr>\n",
       "    <tr>\n",
       "      <th>max</th>\n",
       "      <td>1.000000</td>\n",
       "      <td>1.000000</td>\n",
       "      <td>1.000000</td>\n",
       "    </tr>\n",
       "  </tbody>\n",
       "</table>\n",
       "</div>"
      ],
      "text/plain": [
       "       BTC-USD_Open  BTC-USD_Close  BTC-USD_Volume\n",
       "count   2999.000000    2999.000000     2999.000000\n",
       "mean       0.188380       0.188378        0.046681\n",
       "std        0.241206       0.241076        0.057122\n",
       "min        0.000000       0.000000        0.000000\n",
       "25%        0.007429       0.007415        0.000274\n",
       "50%        0.101939       0.101943        0.020720\n",
       "75%        0.245053       0.245242        0.080142\n",
       "max        1.000000       1.000000        1.000000"
      ]
     },
     "execution_count": 119,
     "metadata": {},
     "output_type": "execute_result"
    }
   ],
   "source": [
    "mdf.describe()"
   ]
  },
  {
   "cell_type": "code",
   "execution_count": 120,
   "id": "d62b5610",
   "metadata": {},
   "outputs": [],
   "source": [
    "#from datetime import datetime\n",
    "from sklearn.preprocessing import MinMaxScaler\n",
    "\n",
    "def prepareData(time_slices, mdf, n_steps=90):\n",
    "    X = []\n",
    "    y = []\n",
    "    scaler = MinMaxScaler()\n",
    "    mdf.Date = pd.to_datetime(mdf.Date)\n",
    "    nn = mdf.drop(columns=['Date'])\n",
    "    scaler.fit(nn)\n",
    "    col_X, col_y = None, None\n",
    "    max_time = max(mdf['Date']).to_pydatetime()\n",
    "    min_time = min(mdf['Date']).to_pydatetime()\n",
    "    dd = (max_time - min_time).days\n",
    "    s = min_time\n",
    "    #print(time_slices.shape)\n",
    "    #for start in mdf['Date']:\n",
    "    for i in range(dd-128):\n",
    "        sample = []\n",
    "        #s = start.to_pydatetime()\n",
    "        #print(s)\n",
    "        end = (s + datetime.timedelta(days=n_steps))\n",
    "        #print(end)\n",
    "        # check if we are beyond the sequence\n",
    "        if end >= max_time:\n",
    "            break\n",
    "        \n",
    "        tmp_X = mdf[mdf['Date'] >= s]\n",
    "        tmp_X = tmp_X[tmp_X['Date'] < end]\n",
    "        tmp_y = mdf[mdf['Date'] == end]\n",
    "        #print(tmp_y)\n",
    "        tmp_X = tmp_X.drop(columns = ['Date'])\n",
    "        tmp_X_scaled = scaler.transform(tmp_X)\n",
    "        #tmp_y = tmp_y['ETH-USD']\n",
    "        if col_X is None:\n",
    "            col_X = tmp_X.columns\n",
    "            col_y = tmp_y.columns\n",
    "        arr_tmp_X = tmp_X.to_numpy()\n",
    "        arr_tmp_y = tmp_y.to_numpy()\n",
    "        #print(arr_tmp_y.shape)\n",
    "        for i in range(arr_tmp_X.shape[0]):\n",
    "            sample.append(arr_tmp_X[i,:])\n",
    "        X.append(np.array(sample))\n",
    "        y.append(arr_tmp_y[0,:])\n",
    "        s = (s + datetime.timedelta(days=1))\n",
    "    #print(len(X))\n",
    "    #return np.array(X), np.array(y)\n",
    "    return np.array(X), pd.DataFrame(data=y, columns=col_y)"
   ]
  },
  {
   "cell_type": "code",
   "execution_count": 154,
   "id": "df7ef1f9",
   "metadata": {},
   "outputs": [
    {
     "data": {
      "text/plain": [
       "(2999, 4)"
      ]
     },
     "execution_count": 154,
     "metadata": {},
     "output_type": "execute_result"
    }
   ],
   "source": [
    "mdf.shape"
   ]
  },
  {
   "cell_type": "code",
   "execution_count": 155,
   "id": "66eef8da",
   "metadata": {},
   "outputs": [
    {
     "name": "stdout",
     "output_type": "stream",
     "text": [
      "2399\n"
     ]
    }
   ],
   "source": [
    "size = int(0.8 * mdf.shape[0])\n",
    "print(size)"
   ]
  },
  {
   "cell_type": "code",
   "execution_count": 167,
   "id": "b7b9e843",
   "metadata": {},
   "outputs": [],
   "source": [
    "tmp = mdf.copy()\n",
    "train_df = tmp.loc[:size,:]\n",
    "val_df = tmp.loc[size:size+300,:]\n",
    "val_df.reset_index(inplace=True, drop=True)\n",
    "test_df = tmp.loc[size+300:,:]\n",
    "test_df.reset_index(inplace=True, drop=True)"
   ]
  },
  {
   "cell_type": "code",
   "execution_count": 168,
   "id": "40ecff15",
   "metadata": {},
   "outputs": [
    {
     "data": {
      "text/plain": [
       "(2400, 4)"
      ]
     },
     "execution_count": 168,
     "metadata": {},
     "output_type": "execute_result"
    }
   ],
   "source": [
    "train_df.shape"
   ]
  },
  {
   "cell_type": "code",
   "execution_count": 169,
   "id": "a3dcd418",
   "metadata": {},
   "outputs": [
    {
     "data": {
      "text/plain": [
       "(301, 4)"
      ]
     },
     "execution_count": 169,
     "metadata": {},
     "output_type": "execute_result"
    }
   ],
   "source": [
    "val_df.shape"
   ]
  },
  {
   "cell_type": "code",
   "execution_count": 170,
   "id": "b1f39fc9",
   "metadata": {},
   "outputs": [
    {
     "data": {
      "text/plain": [
       "(300, 4)"
      ]
     },
     "execution_count": 170,
     "metadata": {},
     "output_type": "execute_result"
    }
   ],
   "source": [
    "test_df.shape"
   ]
  },
  {
   "cell_type": "code",
   "execution_count": 171,
   "id": "9668afd4",
   "metadata": {},
   "outputs": [
    {
     "data": {
      "text/html": [
       "<div>\n",
       "<style scoped>\n",
       "    .dataframe tbody tr th:only-of-type {\n",
       "        vertical-align: middle;\n",
       "    }\n",
       "\n",
       "    .dataframe tbody tr th {\n",
       "        vertical-align: top;\n",
       "    }\n",
       "\n",
       "    .dataframe thead th {\n",
       "        text-align: right;\n",
       "    }\n",
       "</style>\n",
       "<table border=\"1\" class=\"dataframe\">\n",
       "  <thead>\n",
       "    <tr style=\"text-align: right;\">\n",
       "      <th></th>\n",
       "      <th>Date</th>\n",
       "      <th>BTC-USD_Open</th>\n",
       "      <th>BTC-USD_Close</th>\n",
       "      <th>BTC-USD_Volume</th>\n",
       "    </tr>\n",
       "  </thead>\n",
       "  <tbody>\n",
       "    <tr>\n",
       "      <th>0</th>\n",
       "      <td>2022-02-15</td>\n",
       "      <td>0.629476</td>\n",
       "      <td>0.658821</td>\n",
       "      <td>0.064724</td>\n",
       "    </tr>\n",
       "    <tr>\n",
       "      <th>1</th>\n",
       "      <td>2022-02-16</td>\n",
       "      <td>0.659040</td>\n",
       "      <td>0.649719</td>\n",
       "      <td>0.056378</td>\n",
       "    </tr>\n",
       "    <tr>\n",
       "      <th>2</th>\n",
       "      <td>2022-02-17</td>\n",
       "      <td>0.649522</td>\n",
       "      <td>0.598912</td>\n",
       "      <td>0.074768</td>\n",
       "    </tr>\n",
       "    <tr>\n",
       "      <th>3</th>\n",
       "      <td>2022-02-18</td>\n",
       "      <td>0.599281</td>\n",
       "      <td>0.591388</td>\n",
       "      <td>0.066401</td>\n",
       "    </tr>\n",
       "    <tr>\n",
       "      <th>4</th>\n",
       "      <td>2022-02-19</td>\n",
       "      <td>0.591472</td>\n",
       "      <td>0.592741</td>\n",
       "      <td>0.039123</td>\n",
       "    </tr>\n",
       "    <tr>\n",
       "      <th>...</th>\n",
       "      <td>...</td>\n",
       "      <td>...</td>\n",
       "      <td>...</td>\n",
       "      <td>...</td>\n",
       "    </tr>\n",
       "    <tr>\n",
       "      <th>295</th>\n",
       "      <td>2022-12-07</td>\n",
       "      <td>0.251030</td>\n",
       "      <td>0.247371</td>\n",
       "      <td>0.056044</td>\n",
       "    </tr>\n",
       "    <tr>\n",
       "      <th>296</th>\n",
       "      <td>2022-12-08</td>\n",
       "      <td>0.247436</td>\n",
       "      <td>0.253089</td>\n",
       "      <td>0.058384</td>\n",
       "    </tr>\n",
       "    <tr>\n",
       "      <th>297</th>\n",
       "      <td>2022-12-09</td>\n",
       "      <td>0.253147</td>\n",
       "      <td>0.251601</td>\n",
       "      <td>0.057905</td>\n",
       "    </tr>\n",
       "    <tr>\n",
       "      <th>298</th>\n",
       "      <td>2022-12-10</td>\n",
       "      <td>0.251694</td>\n",
       "      <td>0.251535</td>\n",
       "      <td>0.036189</td>\n",
       "    </tr>\n",
       "    <tr>\n",
       "      <th>299</th>\n",
       "      <td>2022-12-11</td>\n",
       "      <td>0.251685</td>\n",
       "      <td>0.252082</td>\n",
       "      <td>0.036197</td>\n",
       "    </tr>\n",
       "  </tbody>\n",
       "</table>\n",
       "<p>300 rows × 4 columns</p>\n",
       "</div>"
      ],
      "text/plain": [
       "          Date  BTC-USD_Open  BTC-USD_Close  BTC-USD_Volume\n",
       "0   2022-02-15      0.629476       0.658821        0.064724\n",
       "1   2022-02-16      0.659040       0.649719        0.056378\n",
       "2   2022-02-17      0.649522       0.598912        0.074768\n",
       "3   2022-02-18      0.599281       0.591388        0.066401\n",
       "4   2022-02-19      0.591472       0.592741        0.039123\n",
       "..         ...           ...            ...             ...\n",
       "295 2022-12-07      0.251030       0.247371        0.056044\n",
       "296 2022-12-08      0.247436       0.253089        0.058384\n",
       "297 2022-12-09      0.253147       0.251601        0.057905\n",
       "298 2022-12-10      0.251694       0.251535        0.036189\n",
       "299 2022-12-11      0.251685       0.252082        0.036197\n",
       "\n",
       "[300 rows x 4 columns]"
      ]
     },
     "execution_count": 171,
     "metadata": {},
     "output_type": "execute_result"
    }
   ],
   "source": [
    "test_df"
   ]
  },
  {
   "cell_type": "code",
   "execution_count": 172,
   "id": "e5e9b880",
   "metadata": {},
   "outputs": [
    {
     "name": "stderr",
     "output_type": "stream",
     "text": [
      "/var/folders/q3/804jvxv50k900sffyj_lk9yc0000gn/T/ipykernel_27756/1836777357.py:8: SettingWithCopyWarning: \n",
      "A value is trying to be set on a copy of a slice from a DataFrame.\n",
      "Try using .loc[row_indexer,col_indexer] = value instead\n",
      "\n",
      "See the caveats in the documentation: https://pandas.pydata.org/pandas-docs/stable/user_guide/indexing.html#returning-a-view-versus-a-copy\n",
      "  mdf.Date = pd.to_datetime(mdf.Date)\n",
      "/var/folders/q3/804jvxv50k900sffyj_lk9yc0000gn/T/ipykernel_27756/1836777357.py:8: SettingWithCopyWarning: \n",
      "A value is trying to be set on a copy of a slice from a DataFrame.\n",
      "Try using .loc[row_indexer,col_indexer] = value instead\n",
      "\n",
      "See the caveats in the documentation: https://pandas.pydata.org/pandas-docs/stable/user_guide/indexing.html#returning-a-view-versus-a-copy\n",
      "  mdf.Date = pd.to_datetime(mdf.Date)\n",
      "/var/folders/q3/804jvxv50k900sffyj_lk9yc0000gn/T/ipykernel_27756/1836777357.py:8: SettingWithCopyWarning: \n",
      "A value is trying to be set on a copy of a slice from a DataFrame.\n",
      "Try using .loc[row_indexer,col_indexer] = value instead\n",
      "\n",
      "See the caveats in the documentation: https://pandas.pydata.org/pandas-docs/stable/user_guide/indexing.html#returning-a-view-versus-a-copy\n",
      "  mdf.Date = pd.to_datetime(mdf.Date)\n"
     ]
    }
   ],
   "source": [
    "X_train, y_train = prepareData(time_slices, train_df, n_steps=128)\n",
    "X_val, y_val = prepareData(time_slices, val_df, n_steps=128)\n",
    "X_test, y_test = prepareData(time_slices, test_df, n_steps=128)"
   ]
  },
  {
   "cell_type": "code",
   "execution_count": 173,
   "id": "c889ee00",
   "metadata": {},
   "outputs": [
    {
     "name": "stdout",
     "output_type": "stream",
     "text": [
      "(2271, 128, 3)\n"
     ]
    }
   ],
   "source": [
    "print(X_train.shape)"
   ]
  },
  {
   "cell_type": "code",
   "execution_count": 178,
   "id": "e39d9718",
   "metadata": {},
   "outputs": [
    {
     "data": {
      "text/plain": [
       "Date              2015-02-01 00:00:00\n",
       "BTC-USD_Open                 0.000593\n",
       "BTC-USD_Close                0.000725\n",
       "BTC-USD_Volume               0.000066\n",
       "Name: 0, dtype: object"
      ]
     },
     "execution_count": 178,
     "metadata": {},
     "output_type": "execute_result"
    }
   ],
   "source": [
    "y_train.loc[0,:]"
   ]
  },
  {
   "cell_type": "code",
   "execution_count": 174,
   "id": "5b4d9ef5",
   "metadata": {},
   "outputs": [
    {
     "name": "stdout",
     "output_type": "stream",
     "text": [
      "(2271, 4)\n"
     ]
    }
   ],
   "source": [
    "print(y_train.shape)"
   ]
  },
  {
   "cell_type": "code",
   "execution_count": 175,
   "id": "1e9f7928",
   "metadata": {},
   "outputs": [
    {
     "name": "stdout",
     "output_type": "stream",
     "text": [
      "(172, 128, 3) (171, 128, 3)\n"
     ]
    }
   ],
   "source": [
    "print(X_val.shape, X_test.shape)"
   ]
  },
  {
   "cell_type": "code",
   "execution_count": 179,
   "id": "2b5bd245",
   "metadata": {},
   "outputs": [
    {
     "name": "stdout",
     "output_type": "stream",
     "text": [
      "(172, 4) (171, 4)\n"
     ]
    }
   ],
   "source": [
    "print(y_val.shape, y_test.shape)"
   ]
  },
  {
   "cell_type": "code",
   "execution_count": 184,
   "id": "f7aa0eec",
   "metadata": {},
   "outputs": [
    {
     "name": "stdout",
     "output_type": "stream",
     "text": [
      "(2271, 128)\n"
     ]
    }
   ],
   "source": [
    "print(X_train[:,:,1].shape)"
   ]
  },
  {
   "cell_type": "code",
   "execution_count": 176,
   "id": "ff684ca8",
   "metadata": {},
   "outputs": [],
   "source": [
    "f = open(\"data_X_train.pkl\",\"wb\")\n",
    "pickle.dump(X_train,f)\n",
    "f.close()\n",
    "\n",
    "f = open(\"data_X_val.pkl\",\"wb\")\n",
    "pickle.dump(X_val,f)\n",
    "f.close()\n",
    "\n",
    "f = open(\"data_X_test.pkl\",\"wb\")\n",
    "pickle.dump(X_test,f)\n",
    "f.close()\n",
    "\n",
    "y_train.to_pickle(\"./data_y_train.pkl\")\n",
    "\n",
    "y_val.to_pickle(\"./data_y_val.pkl\") \n",
    "\n",
    "y_test.to_pickle(\"./data_y_test.pkl\") "
   ]
  },
  {
   "cell_type": "code",
   "execution_count": 51,
   "id": "9350d708",
   "metadata": {},
   "outputs": [],
   "source": [
    "f = open(\"data_X_new3.pkl\",\"wb\")\n",
    "pickle.dump(X,f)\n",
    "f.close()\n",
    "\n",
    "y.to_pickle(\"./data_y_new3.pkl\") "
   ]
  },
  {
   "cell_type": "code",
   "execution_count": 100,
   "id": "b435c597",
   "metadata": {},
   "outputs": [],
   "source": [
    "tmp = pd.read_csv('./Data/BTC-USD.csv')"
   ]
  },
  {
   "cell_type": "code",
   "execution_count": 101,
   "id": "ec0a01c8",
   "metadata": {},
   "outputs": [],
   "source": [
    "tmp.dropna(how='any', axis=0, inplace=True)"
   ]
  },
  {
   "cell_type": "code",
   "execution_count": 102,
   "id": "9883dc70",
   "metadata": {},
   "outputs": [
    {
     "data": {
      "text/plain": [
       "(3008, 7)"
      ]
     },
     "execution_count": 102,
     "metadata": {},
     "output_type": "execute_result"
    }
   ],
   "source": [
    "tmp.shape"
   ]
  },
  {
   "cell_type": "code",
   "execution_count": null,
   "id": "802cefb5",
   "metadata": {},
   "outputs": [],
   "source": []
  }
 ],
 "metadata": {
  "kernelspec": {
   "display_name": "Python 3 (ipykernel)",
   "language": "python",
   "name": "python3"
  },
  "language_info": {
   "codemirror_mode": {
    "name": "ipython",
    "version": 3
   },
   "file_extension": ".py",
   "mimetype": "text/x-python",
   "name": "python",
   "nbconvert_exporter": "python",
   "pygments_lexer": "ipython3",
   "version": "3.8.15"
  }
 },
 "nbformat": 4,
 "nbformat_minor": 5
}
